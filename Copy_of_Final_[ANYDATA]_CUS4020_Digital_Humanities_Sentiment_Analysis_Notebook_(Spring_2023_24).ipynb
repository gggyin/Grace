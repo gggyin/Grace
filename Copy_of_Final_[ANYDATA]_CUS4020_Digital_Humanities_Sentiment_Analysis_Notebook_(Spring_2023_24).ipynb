{
  "nbformat": 4,
  "nbformat_minor": 0,
  "metadata": {
    "colab": {
      "provenance": []
    },
    "kernelspec": {
      "name": "python3",
      "display_name": "Python 3"
    },
    "language_info": {
      "name": "python"
    }
  },
  "cells": [
    {
      "cell_type": "markdown",
      "source": [
        "This Colab notebook can be used for conducting\n",
        "\n",
        "# Sentiment analysis.\n",
        "\n",
        "To begin, go to File > Save a Copy in Drive. Use your copy, not this one.\n",
        "\n",
        "To use Google Colab, you always need to do the following two things:\n",
        "\n",
        "1) Click \"Connect\" at the upper right. This connects you to Google servers that will run your script.\n",
        "\n",
        "2) Upload whatever texts you want to use as files by clicking on the File Folder icon at left. These files won't stay there over time, so store them yourself and upload them here when you intend to use them."
      ],
      "metadata": {
        "id": "TjDi8OBSWGxY"
      }
    },
    {
      "cell_type": "markdown",
      "source": [
        "# Vader Sentiment\n",
        "\n",
        "is a sentiment analysis tool developed for use with social media texts.\n",
        "\n",
        "https://vadersentiment.readthedocs.io/en/latest/index.html\n",
        "\n"
      ],
      "metadata": {
        "id": "R2bOGcN8JWFz"
      }
    },
    {
      "cell_type": "markdown",
      "source": [
        "# This notebook requires\n",
        "\n",
        "One CSV file with multiple texts to compare aligned in a single column\n",
        "\n",
        "OR\n",
        "\n",
        "One CSV file with multiple texts to compare aligned in multiple columns."
      ],
      "metadata": {
        "id": "hY1DP45iE33R"
      }
    },
    {
      "cell_type": "code",
      "source": [
        "# This code cell installs Vader in this notebook so that we can use it.\n",
        "\n",
        "!pip install vaderSentiment"
      ],
      "metadata": {
        "colab": {
          "base_uri": "https://localhost:8080/"
        },
        "id": "4W7pC_y31DzS",
        "outputId": "18caba56-dbb9-46b2-9491-d751512f126f"
      },
      "execution_count": 1,
      "outputs": [
        {
          "output_type": "stream",
          "name": "stdout",
          "text": [
            "Collecting vaderSentiment\n",
            "  Downloading vaderSentiment-3.3.2-py2.py3-none-any.whl (125 kB)\n",
            "\u001b[?25l     \u001b[90m━━━━━━━━━━━━━━━━━━━━━━━━━━━━━━━━━━━━━━━━\u001b[0m \u001b[32m0.0/126.0 kB\u001b[0m \u001b[31m?\u001b[0m eta \u001b[36m-:--:--\u001b[0m\r\u001b[2K     \u001b[91m━━━━━━━━━━━━━━━━━━━━━━\u001b[0m\u001b[91m╸\u001b[0m\u001b[90m━━━━━━━━━━━━━━━━━\u001b[0m \u001b[32m71.7/126.0 kB\u001b[0m \u001b[31m1.9 MB/s\u001b[0m eta \u001b[36m0:00:01\u001b[0m\r\u001b[2K     \u001b[90m━━━━━━━━━━━━━━━━━━━━━━━━━━━━━━━━━━━━━━━━\u001b[0m \u001b[32m126.0/126.0 kB\u001b[0m \u001b[31m2.6 MB/s\u001b[0m eta \u001b[36m0:00:00\u001b[0m\n",
            "\u001b[?25hRequirement already satisfied: requests in /usr/local/lib/python3.10/dist-packages (from vaderSentiment) (2.31.0)\n",
            "Requirement already satisfied: charset-normalizer<4,>=2 in /usr/local/lib/python3.10/dist-packages (from requests->vaderSentiment) (3.3.2)\n",
            "Requirement already satisfied: idna<4,>=2.5 in /usr/local/lib/python3.10/dist-packages (from requests->vaderSentiment) (3.4)\n",
            "Requirement already satisfied: urllib3<3,>=1.21.1 in /usr/local/lib/python3.10/dist-packages (from requests->vaderSentiment) (2.0.7)\n",
            "Requirement already satisfied: certifi>=2017.4.17 in /usr/local/lib/python3.10/dist-packages (from requests->vaderSentiment) (2023.7.22)\n",
            "Installing collected packages: vaderSentiment\n",
            "Successfully installed vaderSentiment-3.3.2\n"
          ]
        }
      ]
    },
    {
      "cell_type": "code",
      "execution_count": 2,
      "metadata": {
        "colab": {
          "base_uri": "https://localhost:8080/"
        },
        "id": "nX4gm5t40Xqy",
        "outputId": "02e3187a-cabc-4a68-fbaa-5707c73c4fe8"
      },
      "outputs": [
        {
          "output_type": "stream",
          "name": "stdout",
          "text": [
            "VADER is smart, handsome, and funny.----------------------------- {'neg': 0.0, 'neu': 0.254, 'pos': 0.746, 'compound': 0.8316}\n",
            "VADER is smart, handsome, and funny!----------------------------- {'neg': 0.0, 'neu': 0.248, 'pos': 0.752, 'compound': 0.8439}\n",
            "VADER is very smart, handsome, and funny.------------------------ {'neg': 0.0, 'neu': 0.299, 'pos': 0.701, 'compound': 0.8545}\n",
            "VADER is VERY SMART, handsome, and FUNNY.------------------------ {'neg': 0.0, 'neu': 0.246, 'pos': 0.754, 'compound': 0.9227}\n",
            "VADER is VERY SMART, handsome, and FUNNY!!!---------------------- {'neg': 0.0, 'neu': 0.233, 'pos': 0.767, 'compound': 0.9342}\n",
            "VADER is VERY SMART, uber handsome, and FRIGGIN FUNNY!!!--------- {'neg': 0.0, 'neu': 0.294, 'pos': 0.706, 'compound': 0.9469}\n",
            "VADER is not smart, handsome, nor funny.------------------------- {'neg': 0.646, 'neu': 0.354, 'pos': 0.0, 'compound': -0.7424}\n",
            "The book was good.----------------------------------------------- {'neg': 0.0, 'neu': 0.508, 'pos': 0.492, 'compound': 0.4404}\n",
            "At least it isn't a horrible book.------------------------------- {'neg': 0.0, 'neu': 0.678, 'pos': 0.322, 'compound': 0.431}\n",
            "The book was only kind of good.---------------------------------- {'neg': 0.0, 'neu': 0.697, 'pos': 0.303, 'compound': 0.3832}\n",
            "The plot was good, but the characters are uncompelling and the dialog is not great. {'neg': 0.327, 'neu': 0.579, 'pos': 0.094, 'compound': -0.7042}\n",
            "Today SUX!------------------------------------------------------- {'neg': 0.779, 'neu': 0.221, 'pos': 0.0, 'compound': -0.5461}\n",
            "Today only kinda sux! But I'll get by, lol----------------------- {'neg': 0.127, 'neu': 0.556, 'pos': 0.317, 'compound': 0.5249}\n",
            "Make sure you :) or :D today!------------------------------------ {'neg': 0.0, 'neu': 0.294, 'pos': 0.706, 'compound': 0.8633}\n",
            "Catch utf-8 emoji such as such as 💘 and 💋 and 😁------------------ {'neg': 0.0, 'neu': 0.615, 'pos': 0.385, 'compound': 0.875}\n",
            "Not bad at all--------------------------------------------------- {'neg': 0.0, 'neu': 0.513, 'pos': 0.487, 'compound': 0.431}\n"
          ]
        }
      ],
      "source": [
        "# This code cell imports other tools we need to do the analysis.\n",
        "\n",
        "import pandas as pd\n",
        "import numpy as np\n",
        "import re,os,json\n",
        "import seaborn as sns\n",
        "from collections import Counter\n",
        "from vaderSentiment.vaderSentiment import SentimentIntensityAnalyzer\n",
        "\n",
        "# Then, it loads some example sentences and conducts an analysis to show how VADER works.\n",
        "# It gives each sentence three types of scores, then combines them into a \"compound\" score.\n",
        "\n",
        "# --- example sentences -------\n",
        "\n",
        "sentences = [\"VADER is smart, handsome, and funny.\",  # positive sentence example\n",
        "             \"VADER is smart, handsome, and funny!\",  # punctuation emphasis handled correctly (sentiment intensity adjusted)\n",
        "             \"VADER is very smart, handsome, and funny.\", # booster words handled correctly (sentiment intensity adjusted)\n",
        "             \"VADER is VERY SMART, handsome, and FUNNY.\",  # emphasis for ALLCAPS handled\n",
        "             \"VADER is VERY SMART, handsome, and FUNNY!!!\", # combination of signals - VADER appropriately adjusts intensity\n",
        "             \"VADER is VERY SMART, uber handsome, and FRIGGIN FUNNY!!!\", # booster words & punctuation make this close to ceiling for score\n",
        "             \"VADER is not smart, handsome, nor funny.\",  # negation sentence example\n",
        "             \"The book was good.\",  # positive sentence\n",
        "             \"At least it isn't a horrible book.\",  # negated negative sentence with contraction\n",
        "             \"The book was only kind of good.\", # qualified positive sentence is handled correctly (intensity adjusted)\n",
        "             \"The plot was good, but the characters are uncompelling and the dialog is not great.\", # mixed negation sentence\n",
        "             \"Today SUX!\",  # negative slang with capitalization emphasis\n",
        "             \"Today only kinda sux! But I'll get by, lol\", # mixed sentiment example with slang and constrastive conjunction \"but\"\n",
        "             \"Make sure you :) or :D today!\",  # emoticons handled\n",
        "             \"Catch utf-8 emoji such as such as 💘 and 💋 and 😁\",  # emojis handled\n",
        "             \"Not bad at all\"  # Capitalized negation\n",
        "             ]\n",
        "\n",
        "analyzer = SentimentIntensityAnalyzer()\n",
        "for sentence in sentences:\n",
        "    vs = analyzer.polarity_scores(sentence)\n",
        "    print(\"{:-<65} {}\".format(sentence, str(vs)))"
      ]
    },
    {
      "cell_type": "code",
      "source": [
        "# This code cell intakes the CSV file containing the answers to the questions.\n",
        "\n",
        "# This will not work unless you have uploaded the file to Colab.\n",
        "\n",
        "# If you want to use this notebook with a different file,\n",
        "# upload a different file and change the filename here.\n",
        "\n",
        "filename = 'ladygaga_all_lyrics.csv' # @param {type:\"string\"}\n",
        "\n",
        "ignore_cols = 3 # @param {type:\"integer\"}\n",
        "# Columns for respondents information to be ignored for the analysis.\n",
        "\n",
        "data = pd.read_csv(filename)"
      ],
      "metadata": {
        "id": "CLGUC3DC5U49"
      },
      "execution_count": 3,
      "outputs": []
    },
    {
      "cell_type": "code",
      "source": [
        "# This shows the header columns\n",
        "cols = list(data.columns[ignore_cols:].values)"
      ],
      "metadata": {
        "id": "RE92XywyJ0Lw"
      },
      "execution_count": 4,
      "outputs": []
    },
    {
      "cell_type": "code",
      "source": [
        "# This imports the NLTK library for language processing tasks.\n",
        "import nltk\n",
        "nltk.download('punkt')"
      ],
      "metadata": {
        "id": "-7Z0qU6D8N4h",
        "colab": {
          "base_uri": "https://localhost:8080/"
        },
        "outputId": "8799f132-d71f-421d-b922-b6fec9cf4cbc"
      },
      "execution_count": 5,
      "outputs": [
        {
          "output_type": "stream",
          "name": "stderr",
          "text": [
            "[nltk_data] Downloading package punkt to /root/nltk_data...\n",
            "[nltk_data]   Unzipping tokenizers/punkt.zip.\n"
          ]
        },
        {
          "output_type": "execute_result",
          "data": {
            "text/plain": [
              "True"
            ]
          },
          "metadata": {},
          "execution_count": 5
        }
      ]
    },
    {
      "cell_type": "code",
      "source": [
        "# This code cell add VaderSentiments compound scores for each of the columns as a new column\n",
        "for col in cols:\n",
        "  data[\"vs__\"+col] = data[col].apply(lambda s: analyzer.polarity_scores(s)['compound'])"
      ],
      "metadata": {
        "id": "lsLOVNa2M7eh"
      },
      "execution_count": 6,
      "outputs": []
    },
    {
      "cell_type": "code",
      "source": [
        "# This code cell add VaderSentiments compound scores for each of the columns as a new column,  with sentence segmentation\n",
        "from statistics import mean\n",
        "for col in cols:\n",
        "  data[\"vs__\"+col] = data[col].apply(lambda para: mean([analyzer.polarity_scores(s)['compound'] for s in nltk.sent_tokenize(para)]))"
      ],
      "metadata": {
        "id": "KTMeG9JD89EM"
      },
      "execution_count": 7,
      "outputs": []
    },
    {
      "cell_type": "code",
      "source": [
        "# This code cell displays first three rows in all columns in the CSV.\n",
        "\n",
        "for i, row in data.iterrows():\n",
        "  if i < 3:\n",
        "    print(f\"ROW {i} {'':-<85}\")\n",
        "    for col in cols:\n",
        "      print(\"{:-<20} {:-<60} {:>7}\".format(col, row[col], row[\"vs__\"+col]))\n",
        "    print()"
      ],
      "metadata": {
        "colab": {
          "base_uri": "https://localhost:8080/"
        },
        "id": "Ib-vIKOYU1KN",
        "outputId": "0074f0ce-df33-4d85-e6c3-d0d8b872bd7c"
      },
      "execution_count": 8,
      "outputs": [
        {
          "output_type": "stream",
          "name": "stdout",
          "text": [
            "ROW 0 -------------------------------------------------------------------------------------\n",
            "lyrics-------------- \n",
            "I need you to listen to me, please believe me\n",
            "I'm completely lonely, please don't judge me\n",
            "When your tears are falling, I'll catch them as they fall\n",
            "I need you to listen to me, please don't leave me\n",
            "I'm not perfect yet, but I'll keep trying\n",
            "When your tears are falling, I'll catch them as they fall\n",
            "\n",
            "'Cause inside, we are really made the same (Oh)\n",
            "In life, waiting's just a stupid game (Oh)\n",
            "\n",
            "Lift me up, give me a start\n",
            "'Cause I've been flying with some broken arms\n",
            "Lift me up, just a small nudge\n",
            "And I'll be flying like a thousand doves\n",
            "\n",
            "A thousand do-o-o-o-o-oves\n",
            "Oh (Doves)\n",
            "A thousand do-o-o-o-o-oves\n",
            "Oh (Doves)\n",
            "\n",
            "I'd do anything for you to really see me\n",
            "I am human, invisibly bleeding\n",
            "When your smile is shaking, I'll catch you as you fall\n",
            "\n",
            "I cry more than I ever say (Oh)\n",
            "Each time, your love seems to save the day (Oh)\n",
            "\n",
            "Lift me up, give me a start\n",
            "'Cause I've been flying with some broken arms\n",
            "Lift me up, just a small nudge\n",
            "And I'll be flying like a thousand doves\n",
            "\n",
            "A thousand do-o-o-o-o-oves\n",
            "Oh (Doves)\n",
            "A thousand do-o-o-o-o-oves\n",
            "Oh (Doves)\n",
            "\n",
            "I've been hurting, stuck inside a cage\n",
            "So hard my heart's been in a rage\n",
            "If you love me, then just set me free\n",
            "And if you don't, then baby, leave\n",
            "Set me free\n",
            "\n",
            "Lift me up, give me a start\n",
            "'Cause I've been flying with some broken arms\n",
            "Lift me up, just a small nudge\n",
            "And I'll be flying like a thousand doves\n",
            "\n",
            "A thousand do-o-o-o-o-oves (Flying, flying)\n",
            "Oh (Flying like a thousand doves)\n",
            "A thousand do-o-o-o-o-oves (Flying, flying)\n",
            "Oh (Flying like a thousand doves)\n",
            "Flying, flying, flying like a thousand doves\n",
            "Flying, flying, flying (Doves)  0.8605\n",
            "\n",
            "ROW 1 -------------------------------------------------------------------------------------\n",
            "lyrics-------------- \n",
            "I need you to listen to me, please believe me\n",
            "I'm completely lonely, please don't judge me\n",
            "When your tears are falling, I'll catch them as they fall\n",
            "I need you to listen to me, please don't leave me\n",
            "I'm not perfect yet, but I'll keep trying\n",
            "When your tears are falling, I'll catch them as they fall\n",
            "\n",
            "'Cause inside, we are really made the same\n",
            "In life, waiting's just a stupid game\n",
            "\n",
            "Lift me up, give me a start\n",
            "'Cause I've been flying with some broken arms\n",
            "Lift me up, just a small nudge\n",
            "And I'll be flying like a thousand doves\n",
            "\n",
            "Flying like a thousand, flying like two thousand\n",
            "Flying like ten thousand doves\n",
            "Flying like a thousand, flying like two thousand\n",
            "Flying like ten thousand doves\n",
            "\n",
            "I'd do anything if you would just believe me\n",
            "I am human, invisibly bleeding\n",
            "When your smile is shaking, I'll catch you as you fall\n",
            "If I had a painter's mind, then I would paint it\n",
            "Or a sculptor's hands, then I would shape it\n",
            "But instead, I guess I'll sing it in this song\n",
            "\n",
            "I cry more than I ever sang\n",
            "Each time, your love seems to save the day\n",
            "\n",
            "Lift me up, give me a start\n",
            "'Cause I've been flying with some broken arms\n",
            "Lift me up, just a small nudge\n",
            "And I'll be flying like a thousand doves\n",
            "\n",
            "Flying like a thousand, flying like two thousand\n",
            "Flying like ten thousand doves\n",
            "Flying like a thousand, flying like two thousand\n",
            "Flying like ten thousand doves  0.9882\n",
            "\n",
            "ROW 2 -------------------------------------------------------------------------------------\n",
            "lyrics-------------- \n",
            "Turning up emotional faders\n",
            "Keep repeating self-hating phrases\n",
            "I have heard enough of these voices\n",
            "Almost like I have no choice\n",
            "\n",
            "This is biological stasis\n",
            "My mood's shifting to manic places\n",
            "Wish I laughed and kept the good friendships\n",
            "Watch life, here I go again\n",
            "\n",
            "I can't see me cry\n",
            "Can't see me cry ever again (Ooh)\n",
            "I can't see me cry\n",
            "Can't see me cry this is the end (Ooh)\n",
            "\n",
            "My biggest enemy is me\n",
            "Pop a 911\n",
            "My biggest enemy is me\n",
            "Pop a 911\n",
            "My biggest enemy is me\n",
            "Ever since day one\n",
            "Pop a 911\n",
            "Then pop another one\n",
            "\n",
            "Keep my dolls inside diamond boxes\n",
            "Save 'em 'til I know I'm gon' drop this\n",
            "Front I've built around my oasis\n",
            "Paradise is in my hands\n",
            "Holding on so tight to this status\n",
            "It's not real but I'll try to grab it\n",
            "Keep myself in beautiful places\n",
            "Paradise is in my hands\n",
            "\n",
            "I can't see me cry\n",
            "Can't see me cry ever again (Ooh)\n",
            "I can't see me cry\n",
            "Can't see me cry this is the end (Ooh)\n",
            "\n",
            "My biggest enemy is me\n",
            "Pop a 911\n",
            "My biggest enemy is me\n",
            "Pop a 911\n",
            "My biggest enemy is me\n",
            "Ever since day one\n",
            "Pop a 911\n",
            "Then pop another one\n",
            "(Pop another one)\n",
            "Pop a 911\n",
            "Then pop another one\n",
            "\n",
            "I can't see me cry\n",
            "Can't see me cry ever again (Ooh)\n",
            "I can't see me cry\n",
            "Can't see me cry this is the end (Ooh)\n",
            "\n",
            "My biggest enemy is me\n",
            "Pop a 911\n",
            "My biggest enemy is me\n",
            "Pop a 911\n",
            "My biggest enemy is me\n",
            "Ever since day one\n",
            "Pop a 911\n",
            "Then pop another one\n",
            "\n",
            "Please patch the line\n",
            "Please patch the line\n",
            "Need a 911, can you patch the line\n",
            "Please patch the line\n",
            "Please patch the line\n",
            "Need a 911, can you patch the line  0.9803\n",
            "\n"
          ]
        }
      ]
    },
    {
      "cell_type": "code",
      "source": [
        "# This code cell displays the 10 texts with the highest compound score.\n",
        "# A high compound score means more positive than negative sentiment.\n",
        "# You can display more or less than 10 by changing the 10 in the code to a different number.\n",
        "\n",
        "\n",
        "print (\"*** HIGHEST COMPOUND SCORES ***\")\n",
        "for col in cols:\n",
        "    print(f\"{col} {' ':*<80}\")\n",
        "    print(data[[col,'vs__'+col]].sort_values('vs__'+col, ascending=False)[:10])\n",
        "    print()"
      ],
      "metadata": {
        "colab": {
          "base_uri": "https://localhost:8080/"
        },
        "id": "GIgAnLZeK1BI",
        "outputId": "44e6b549-8bf4-423d-e5f7-6cdb802939c3"
      },
      "execution_count": 9,
      "outputs": [
        {
          "output_type": "stream",
          "name": "stdout",
          "text": [
            "*** HIGHEST COMPOUND SCORES ***\n",
            "lyrics  *******************************************************************************\n",
            "                                                lyrics  vs__lyrics\n",
            "251  \\nFace down in a pillow, she cries\\nHer black ...      0.9998\n",
            "50   \\nOh, disco heaven\\nOh, disco heaven\\n\\nGet ba...      0.9993\n",
            "79   \\n(I'll remember that, I'll remember that)\\n(I...      0.9992\n",
            "23   \\nBeautiful, dirty, dirty rich\\nRich, dirty, d...      0.9992\n",
            "209  \\n<i>[Romanized:]</i>\\n\\n<i>[Jennie:]</i>\\nSou...      0.9991\n",
            "201  \\nI came down the mountain\\nDraggin' our love ...      0.9991\n",
            "222  \\nI'll undress you, 'cause you're tired\\nCover...      0.9990\n",
            "203  \\nEh-eh, eh-eh\\nYe-ha, ye-ha\\nEh-eh, eh-eh\\nAh...      0.9988\n",
            "204  \\nStrange dear, but true dear\\nWhen I'm close ...      0.9987\n",
            "200  \\n<i>[Lady Gaga:]</i>\\nWhen I was young, I pra...      0.9986\n",
            "\n"
          ]
        }
      ]
    },
    {
      "cell_type": "code",
      "source": [
        "# This code cell displays the 10 texts with the lowest compound score.\n",
        "# A low compound score means more negative than positive sentiment.\n",
        "# You can display more or less than 10 by changing the 10 in the code to a different number.\n",
        "\n",
        "print (\"*** LOWEST COMPOUND SCORES ***\")\n",
        "for col in cols:\n",
        "    print(f\"{col} {' ':*<80}\")\n",
        "    print(data[[col,'vs__'+col]].sort_values('vs__'+col, ascending=True)[:10])\n",
        "\n",
        "    print()"
      ],
      "metadata": {
        "colab": {
          "base_uri": "https://localhost:8080/"
        },
        "id": "xTh6bVPqOqak",
        "outputId": "d1d28493-f675-4be8-8c67-91e933f92796"
      },
      "execution_count": 10,
      "outputs": [
        {
          "output_type": "stream",
          "name": "stdout",
          "text": [
            "*** LOWEST COMPOUND SCORES ***\n",
            "lyrics  *******************************************************************************\n",
            "                                                lyrics  vs__lyrics\n",
            "20   \\nWe don't care what people say, we know the t...     -0.9981\n",
            "138  \\nFace down in a pillow, she cries\\nHer black ...     -0.9979\n",
            "145  \\nGirl's muscles in my bones\\nBut I'm too poor...     -0.9952\n",
            "163  \\nMake the bad boys cry\\n\\nShe'd let you know ...     -0.9942\n",
            "146  \\nMaybe it's time to let the old ways die\\nMay...     -0.9928\n",
            "173  \\n<i>[Lady Gaga:]</i>\\nNod if you wanna be hig...     -0.9897\n",
            "213  \\nGot no plans, got no clothes\\nGot no piano, ...     -0.9872\n",
            "187  \\nWe gon' grab the mics and get 'em off the wa...     -0.9871\n",
            "77   \\nI woke up chained inside a vacant little roo...     -0.9813\n",
            "27   \\nBlack eyes open wide\\nIt's time to testify\\n...     -0.9552\n",
            "\n"
          ]
        }
      ]
    },
    {
      "cell_type": "markdown",
      "source": [
        "# Make a boxplot\n",
        "\n",
        "from wikipedia:\n",
        "\n",
        "A boxplot is a standardized way of displaying a dataset based on the five-number summary: the minimum, the maximum, the sample median, and the first and third quartiles.\n",
        "\n",
        "Minimum (Q0 or 0th percentile): the lowest data point in the data set\n",
        "\n",
        "Maximum (Q4 or 100th percentile): the highest data point in the data set\n",
        "\n",
        "Median (Q2 or 50th percentile): the middle value in the data set\n",
        "\n",
        "First quartile (Q1 or 25th percentile): also known as the lower quartile qn(0.25), it is the median of the lower half of the dataset.\n",
        "\n",
        "Third quartile (Q3 or 75th percentile): also known as the upper quartile qn(0.75), it is the median of the upper half of the dataset.[7]"
      ],
      "metadata": {
        "id": "WtC136MFD9Qn"
      }
    },
    {
      "cell_type": "code",
      "source": [
        "# This code cell combines the average scores into boxplots so the two sets of answers can easily be compared.\n",
        "\n",
        "ax = sns.boxplot(data=data)\n",
        "ax.set_xticklabels(cols, rotation=0)\n",
        "\n"
      ],
      "metadata": {
        "colab": {
          "base_uri": "https://localhost:8080/",
          "height": 448
        },
        "id": "ed_piwB_5Ypy",
        "outputId": "e6a00d59-361d-4e1f-916b-ee7a4e2d078a"
      },
      "execution_count": 11,
      "outputs": [
        {
          "output_type": "execute_result",
          "data": {
            "text/plain": [
              "[Text(0, 0, 'lyrics')]"
            ]
          },
          "metadata": {},
          "execution_count": 11
        },
        {
          "output_type": "display_data",
          "data": {
            "text/plain": [
              "<Figure size 640x480 with 1 Axes>"
            ],
            "image/png": "[encoded data removed]"
          },
          "metadata": {}
        }
      ]
    },
    {
      "cell_type": "markdown",
      "source": [
        "This notebook was developed for CUS4020 Digital Humanities by Lau Chaak Ming.\n"
      ],
      "metadata": {
        "id": "zp0bQNaTR2P5"
      }
    }
  ]
}